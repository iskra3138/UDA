{
  "nbformat": 4,
  "nbformat_minor": 0,
  "metadata": {
    "colab": {
      "name": "PyTorch2Tensorflow",
      "provenance": [],
      "include_colab_link": true
    },
    "kernelspec": {
      "name": "python3",
      "display_name": "Python 3"
    },
    "language_info": {
      "name": "python"
    },
    "accelerator": "GPU"
  },
  "cells": [
    {
      "cell_type": "markdown",
      "metadata": {
        "id": "view-in-github",
        "colab_type": "text"
      },
      "source": [
        "<a href=\"https://colab.research.google.com/github/iskra3138/UDA/blob/main/PyTorch2Tensorflow.ipynb\" target=\"_parent\"><img src=\"https://colab.research.google.com/assets/colab-badge.svg\" alt=\"Open In Colab\"/></a>"
      ]
    },
    {
      "cell_type": "code",
      "metadata": {
        "id": "5dfJM-7BnjJn"
      },
      "source": [
        "import numpy as np\n",
        "import torch\n",
        "import torch.nn as nn\n",
        "import torch.optim as optim\n",
        "from torch.autograd import Variable\n",
        "import torch.nn.utils.weight_norm as weightNorm\n",
        "import torchvision\n",
        "from torchvision import models\n",
        "import math\n",
        "from collections import OrderedDict\n",
        "from sklearn.metrics import confusion_matrix"
      ],
      "execution_count": 1,
      "outputs": []
    },
    {
      "cell_type": "code",
      "metadata": {
        "id": "_C8uSmk-nrNx"
      },
      "source": [
        "model_resnet = models.resnet50(pretrained=True).cuda()"
      ],
      "execution_count": 11,
      "outputs": []
    },
    {
      "cell_type": "code",
      "metadata": {
        "id": "G3O6WmmRnrLI"
      },
      "source": [
        "pip install pytorch2keras"
      ],
      "execution_count": null,
      "outputs": []
    },
    {
      "cell_type": "code",
      "metadata": {
        "colab": {
          "base_uri": "https://localhost:8080/"
        },
        "id": "Gbhj3SPHnrJH",
        "outputId": "0c624f94-0be7-4710-eaba-b9f21619b797"
      },
      "source": [
        "!cat ~/.keras/keras.json"
      ],
      "execution_count": 4,
      "outputs": [
        {
          "output_type": "stream",
          "text": [
            "{\n",
            "    \"epsilon\": 1e-07, \n",
            "    \"floatx\": \"float32\", \n",
            "    \"image_data_format\": \"channels_last\", \n",
            "    \"backend\": \"tensorflow\"\n",
            "}"
          ],
          "name": "stdout"
        }
      ]
    },
    {
      "cell_type": "code",
      "metadata": {
        "id": "oxAjb1npnrGh"
      },
      "source": [
        "# channels_last를 channels_first로 변경\n",
        "!sed -i \"4s/.*/    \\\"image_data_format\\\": \\\"channels_first\\\", /g\" /root/.keras/keras.json"
      ],
      "execution_count": 5,
      "outputs": []
    },
    {
      "cell_type": "code",
      "metadata": {
        "colab": {
          "base_uri": "https://localhost:8080/"
        },
        "id": "iEH52QsDnrEI",
        "outputId": "78832bb4-5e9b-4466-d721-dc7ca03a8f75"
      },
      "source": [
        "!cat ~/.keras/keras.json"
      ],
      "execution_count": 6,
      "outputs": [
        {
          "output_type": "stream",
          "text": [
            "{\n",
            "    \"epsilon\": 1e-07, \n",
            "    \"floatx\": \"float32\", \n",
            "    \"image_data_format\": \"channels_first\", \n",
            "    \"backend\": \"tensorflow\"\n",
            "}"
          ],
          "name": "stdout"
        }
      ]
    },
    {
      "cell_type": "code",
      "metadata": {
        "id": "lo0cPbGpqNAZ"
      },
      "source": [
        "input_np = np.random.uniform(0, 1, (1, 3, 224, 224))\n",
        "input_var = Variable(torch.FloatTensor(input_np).cuda())"
      ],
      "execution_count": 21,
      "outputs": []
    },
    {
      "cell_type": "code",
      "metadata": {
        "id": "Viuunnk0pZhv"
      },
      "source": [
        "from pytorch2keras import pytorch_to_keras\n",
        "k_model = pytorch_to_keras(model_resnet, input_var, [(3, 224, 224,)], verbose=True)"
      ],
      "execution_count": null,
      "outputs": []
    },
    {
      "cell_type": "code",
      "metadata": {
        "id": "Qdruf5vFpZkc"
      },
      "source": [
        ""
      ],
      "execution_count": null,
      "outputs": []
    },
    {
      "cell_type": "code",
      "metadata": {
        "id": "OyLG9pR_pZnr"
      },
      "source": [
        "preds = model_resnet(torch.Tensor(np.ones((1,3,224,224))).cuda())"
      ],
      "execution_count": 15,
      "outputs": []
    },
    {
      "cell_type": "code",
      "metadata": {
        "id": "A8ylSZRWrjp-",
        "outputId": "48bf9f51-92e2-4404-997e-af2d8a9dde46",
        "colab": {
          "base_uri": "https://localhost:8080/"
        }
      },
      "source": [
        "preds[0][:10]"
      ],
      "execution_count": 18,
      "outputs": [
        {
          "output_type": "execute_result",
          "data": {
            "text/plain": [
              "tensor([-1.1229, -0.2140, -0.5858, -1.2120, -0.7731, -0.3165, -1.0193,  0.4277,\n",
              "         0.0219, -0.5976], device='cuda:0', grad_fn=<SliceBackward>)"
            ]
          },
          "metadata": {
            "tags": []
          },
          "execution_count": 18
        }
      ]
    },
    {
      "cell_type": "code",
      "metadata": {
        "id": "cREkER-EpZqY"
      },
      "source": [
        "kpreds = k_model.predict(np.ones((1,3,224,224)))"
      ],
      "execution_count": 23,
      "outputs": []
    },
    {
      "cell_type": "code",
      "metadata": {
        "id": "AEBViy7gpZt4",
        "outputId": "54733285-1690-427d-9d77-16dac5f4fa5f",
        "colab": {
          "base_uri": "https://localhost:8080/"
        }
      },
      "source": [
        "kpreds[0][:10]"
      ],
      "execution_count": 24,
      "outputs": [
        {
          "output_type": "execute_result",
          "data": {
            "text/plain": [
              "array([-0.6255495 , -0.5496805 , -1.2382407 , -1.0600657 , -0.54516107,\n",
              "       -0.21183555, -2.0940266 , -0.30546027, -1.1443357 ,  0.06836422],\n",
              "      dtype=float32)"
            ]
          },
          "metadata": {
            "tags": []
          },
          "execution_count": 24
        }
      ]
    }
  ]
}