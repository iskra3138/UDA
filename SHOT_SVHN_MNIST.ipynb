{
  "nbformat": 4,
  "nbformat_minor": 0,
  "metadata": {
    "colab": {
      "name": "2021_UDA_8_SHOT_SVHN-MNIST",
      "provenance": [],
      "collapsed_sections": [],
      "authorship_tag": "ABX9TyMtKoUaZJThOO81RlrtCW9P",
      "include_colab_link": true
    },
    "kernelspec": {
      "name": "python3",
      "display_name": "Python 3"
    },
    "accelerator": "GPU"
  },
  "cells": [
    {
      "cell_type": "markdown",
      "metadata": {
        "id": "view-in-github",
        "colab_type": "text"
      },
      "source": [
        "<a href=\"https://colab.research.google.com/github/iskra3138/UDA/blob/main/SHOT_SVHN_MNIST.ipynb\" target=\"_parent\"><img src=\"https://colab.research.google.com/assets/colab-badge.svg\" alt=\"Open In Colab\"/></a>"
      ]
    },
    {
      "cell_type": "markdown",
      "metadata": {
        "id": "UeYnl7Q8HX3c"
      },
      "source": [
        "# Downloading source"
      ]
    },
    {
      "cell_type": "code",
      "metadata": {
        "colab": {
          "base_uri": "https://localhost:8080/"
        },
        "id": "1P1uuOqfNe1u",
        "outputId": "c0004b6b-8f59-4c54-f81c-bfa089dbfce2"
      },
      "source": [
        "!git clone https://github.com/tim-learn/SHOT.git"
      ],
      "execution_count": 1,
      "outputs": [
        {
          "output_type": "stream",
          "text": [
            "Cloning into 'SHOT'...\n",
            "remote: Enumerating objects: 24, done.\u001b[K\n",
            "remote: Counting objects: 100% (24/24), done.\u001b[K\n",
            "remote: Compressing objects: 100% (18/18), done.\u001b[K\n",
            "remote: Total 227 (delta 11), reused 15 (delta 6), pack-reused 203\u001b[K\n",
            "Receiving objects: 100% (227/227), 489.24 KiB | 21.27 MiB/s, done.\n",
            "Resolving deltas: 100% (97/97), done.\n"
          ],
          "name": "stdout"
        }
      ]
    },
    {
      "cell_type": "code",
      "metadata": {
        "colab": {
          "base_uri": "https://localhost:8080/"
        },
        "id": "IG-hoiplN2c6",
        "outputId": "988e7fa9-6d52-4b53-f48c-69eedaafe20d"
      },
      "source": [
        "cd SHOT/digit/"
      ],
      "execution_count": 2,
      "outputs": [
        {
          "output_type": "stream",
          "text": [
            "/content/SHOT/digit\n"
          ],
          "name": "stdout"
        }
      ]
    },
    {
      "cell_type": "markdown",
      "metadata": {
        "id": "O6LbDjwtYKkk"
      },
      "source": [
        "# Experiment\r\n",
        "- Unsupervised Closed-set Domain Adaptation (UDA) on the Digits dataset(SVHN -> MNIST)"
      ]
    },
    {
      "cell_type": "code",
      "metadata": {
        "colab": {
          "base_uri": "https://localhost:8080/"
        },
        "id": "CRMZV4tmOHbP",
        "outputId": "f8c03abe-8c9e-4fc4-d044-11f91ab6d123"
      },
      "source": [
        "!python uda_digit.py --dset s2m --gpu_id 0 --output ckps_digits_SHOT --cls_par 0.1 "
      ],
      "execution_count": 6,
      "outputs": [
        {
          "output_type": "stream",
          "text": [
            "Using downloaded and verified file: ./data/svhn/train_32x32.mat\n",
            "Using downloaded and verified file: ./data/svhn/test_32x32.mat\n",
            "Task: s2m, Iter:3435/34350; Accuracy = 90.82%/ 88.33%\n",
            "\n",
            "Task: s2m, Iter:6870/34350; Accuracy = 93.20%/ 90.53%\n",
            "\n",
            "Task: s2m, Iter:10305/34350; Accuracy = 94.74%/ 91.46%\n",
            "\n",
            "Task: s2m, Iter:13740/34350; Accuracy = 95.59%/ 92.08%\n",
            "\n",
            "Task: s2m, Iter:17175/34350; Accuracy = 96.31%/ 92.37%\n",
            "\n",
            "Task: s2m, Iter:20610/34350; Accuracy = 96.85%/ 92.65%\n",
            "\n",
            "Task: s2m, Iter:24045/34350; Accuracy = 97.40%/ 92.81%\n",
            "\n",
            "Task: s2m, Iter:27480/34350; Accuracy = 97.86%/ 92.95%\n",
            "\n",
            "Task: s2m, Iter:30915/34350; Accuracy = 98.07%/ 93.14%\n",
            "\n",
            "Task: s2m, Iter:34350/34350; Accuracy = 98.42%/ 93.18%\n",
            "\n",
            "Using downloaded and verified file: ./data/svhn/train_32x32.mat\n",
            "Using downloaded and verified file: ./data/svhn/test_32x32.mat\n",
            "Task: s2m, Accuracy = 72.87%\n",
            "\n",
            "Using downloaded and verified file: ./data/svhn/train_32x32.mat\n",
            "Using downloaded and verified file: ./data/svhn/test_32x32.mat\n",
            "Accuracy = 71.05% -> 79.96%\n",
            "\n",
            "Task: s2m, Iter:938/28140; Accuracy = 98.02%\n",
            "\n",
            "Accuracy = 97.60% -> 97.66%\n",
            "\n",
            "Task: s2m, Iter:1876/28140; Accuracy = 98.63%\n",
            "\n",
            "Accuracy = 98.28% -> 98.27%\n",
            "\n",
            "Task: s2m, Iter:2814/28140; Accuracy = 98.79%\n",
            "\n",
            "Accuracy = 98.42% -> 98.42%\n",
            "\n",
            "Task: s2m, Iter:3752/28140; Accuracy = 98.85%\n",
            "\n",
            "Accuracy = 98.54% -> 98.54%\n",
            "\n",
            "Task: s2m, Iter:4690/28140; Accuracy = 98.84%\n",
            "\n",
            "Accuracy = 98.53% -> 98.53%\n",
            "\n",
            "Task: s2m, Iter:5628/28140; Accuracy = 98.96%\n",
            "\n",
            "Accuracy = 98.59% -> 98.59%\n",
            "\n",
            "Task: s2m, Iter:6566/28140; Accuracy = 98.90%\n",
            "\n",
            "Accuracy = 98.60% -> 98.59%\n",
            "\n",
            "Task: s2m, Iter:7504/28140; Accuracy = 98.93%\n",
            "\n",
            "Accuracy = 98.56% -> 98.56%\n",
            "\n",
            "Task: s2m, Iter:8442/28140; Accuracy = 98.96%\n",
            "\n",
            "Accuracy = 98.60% -> 98.60%\n",
            "\n",
            "Task: s2m, Iter:9380/28140; Accuracy = 99.00%\n",
            "\n",
            "Accuracy = 98.60% -> 98.59%\n",
            "\n",
            "Task: s2m, Iter:10318/28140; Accuracy = 98.98%\n",
            "\n",
            "Accuracy = 98.61% -> 98.60%\n",
            "\n",
            "Task: s2m, Iter:11256/28140; Accuracy = 98.99%\n",
            "\n",
            "Accuracy = 98.63% -> 98.63%\n",
            "\n",
            "Task: s2m, Iter:12194/28140; Accuracy = 99.01%\n",
            "\n",
            "Accuracy = 98.64% -> 98.65%\n",
            "\n",
            "Task: s2m, Iter:13132/28140; Accuracy = 98.95%\n",
            "\n",
            "Accuracy = 98.63% -> 98.63%\n",
            "\n",
            "Task: s2m, Iter:14070/28140; Accuracy = 99.03%\n",
            "\n",
            "Accuracy = 98.63% -> 98.63%\n",
            "\n",
            "Task: s2m, Iter:15008/28140; Accuracy = 98.93%\n",
            "\n",
            "Accuracy = 98.63% -> 98.63%\n",
            "\n",
            "Task: s2m, Iter:15946/28140; Accuracy = 99.02%\n",
            "\n",
            "Accuracy = 98.63% -> 98.63%\n",
            "\n",
            "Task: s2m, Iter:16884/28140; Accuracy = 99.03%\n",
            "\n",
            "Accuracy = 98.65% -> 98.64%\n",
            "\n",
            "Task: s2m, Iter:17822/28140; Accuracy = 98.95%\n",
            "\n",
            "Accuracy = 98.64% -> 98.64%\n",
            "\n",
            "Task: s2m, Iter:18760/28140; Accuracy = 98.85%\n",
            "\n",
            "Accuracy = 98.63% -> 98.63%\n",
            "\n",
            "Task: s2m, Iter:19698/28140; Accuracy = 99.01%\n",
            "\n",
            "Accuracy = 98.64% -> 98.64%\n",
            "\n",
            "Task: s2m, Iter:20636/28140; Accuracy = 99.02%\n",
            "\n",
            "Accuracy = 98.65% -> 98.65%\n",
            "\n",
            "Task: s2m, Iter:21574/28140; Accuracy = 98.94%\n",
            "\n",
            "Accuracy = 98.64% -> 98.64%\n",
            "\n",
            "Task: s2m, Iter:22512/28140; Accuracy = 99.03%\n",
            "\n",
            "Accuracy = 98.65% -> 98.65%\n",
            "\n",
            "Task: s2m, Iter:23450/28140; Accuracy = 99.07%\n",
            "\n",
            "Accuracy = 98.65% -> 98.66%\n",
            "\n",
            "Task: s2m, Iter:24388/28140; Accuracy = 99.05%\n",
            "\n",
            "Accuracy = 98.65% -> 98.65%\n",
            "\n",
            "Task: s2m, Iter:25326/28140; Accuracy = 99.10%\n",
            "\n",
            "Accuracy = 98.66% -> 98.67%\n",
            "\n",
            "Task: s2m, Iter:26264/28140; Accuracy = 99.03%\n",
            "\n",
            "Accuracy = 98.66% -> 98.66%\n",
            "\n",
            "Task: s2m, Iter:27202/28140; Accuracy = 99.07%\n",
            "\n",
            "Accuracy = 98.66% -> 98.66%\n",
            "\n",
            "Task: s2m, Iter:28140/28140; Accuracy = 99.01%\n",
            "\n"
          ],
          "name": "stdout"
        }
      ]
    },
    {
      "cell_type": "code",
      "metadata": {
        "id": "kIQcNay5U6Ei"
      },
      "source": [
        ""
      ],
      "execution_count": null,
      "outputs": []
    }
  ]
}